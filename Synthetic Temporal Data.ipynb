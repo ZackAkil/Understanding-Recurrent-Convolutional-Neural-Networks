{
 "cells": [
  {
   "cell_type": "markdown",
   "metadata": {},
   "source": [
    "# Genrating synthetic temporal data \n",
    "Inorder to show the application of recurrent neural networks (RNNs) we need data that is only correctly predicted when a memory of past events is present.\n",
    "\n",
    "We will build data were predicting the next frame is ambigious given a single instance, but is predictable when multiple chronological instances are used.  \n",
    "\n",
    "## The data\n",
    "The data will of a moving box:\n",
    "![box data](images/box.gif)\n",
    "\n",
    "## The Task\n",
    "To predict the next position of the box:\n",
    "![box predict](images/box_predict.png)\n",
    "\n",
    "## The need for temporal memory in predicting the box\n",
    "As you can probebly see, the next position of the box is abigious based on a single frame, i.e you have no gauranteed way of correctly predicting the direction of the box based on a single frame:\n",
    "![box predict](images/abig_predict.png)\n",
    "\n",
    "**However** if your model maintains a memory of the previous input, it can use that information to predict correctly:\n",
    "![box memory](images/temp_box.png)\n",
    "\n",
    "This is what an RNN does.\n",
    "\n",
    "Lets create this synthetic data:"
   ]
  },
  {
   "cell_type": "markdown",
   "metadata": {},
   "source": [
    "### Inport libraries"
   ]
  },
  {
   "cell_type": "code",
   "execution_count": 4,
   "metadata": {},
   "outputs": [],
   "source": [
    "%matplotlib inline\n",
    "\n",
    "import numpy as np\n",
    "import matplotlib.pyplot as plt\n",
    "\n",
    "from PIL import Image, ImageDraw"
   ]
  },
  {
   "cell_type": "code",
   "execution_count": 5,
   "metadata": {},
   "outputs": [],
   "source": [
    "FRAME_SIZE = [5,60]\n",
    "BOX_WIDTH = 3\n",
    "DATA_POINTS = 200"
   ]
  },
  {
   "cell_type": "code",
   "execution_count": 6,
   "metadata": {},
   "outputs": [],
   "source": [
    "def get_rect(x, y, width, height):\n",
    "    rect = np.array([(0, 0), (width-1, 0), (width-1, height-1), (0, height-1), (0, 0)])\n",
    "    offset = np.array([x, y])\n",
    "    transformed_rect = rect + offset\n",
    "    return transformed_rect"
   ]
  },
  {
   "cell_type": "code",
   "execution_count": 7,
   "metadata": {
    "scrolled": false
   },
   "outputs": [
    {
     "data": {
      "image/png": "[encoded data removed]",
      "text/plain": [
       "<matplotlib.figure.Figure at 0x10cd73a20>"
      ]
     },
     "metadata": {},
     "output_type": "display_data"
    }
   ],
   "source": [
    "base = (np.arange(DATA_POINTS)/DATA_POINTS)* 2 *np.pi\n",
    "sined = (np.sin(base) + 1 )/2\n",
    "plt.scatter(base, sined)\n",
    "plt.show()"
   ]
  },
  {
   "cell_type": "code",
   "execution_count": 8,
   "metadata": {},
   "outputs": [],
   "source": [
    "def get_array_with_box_at_pos(x):\n",
    "    img = Image.fromarray(data)\n",
    "    draw = ImageDraw.Draw(img)\n",
    "    rect = get_rect(x=x, y=1, width=BOX_WIDTH, height=BOX_WIDTH)\n",
    "    draw.polygon([tuple(p) for p in rect], fill=1)\n",
    "    new_data = np.asarray(img)\n",
    "    return new_data"
   ]
  },
  {
   "cell_type": "code",
   "execution_count": 9,
   "metadata": {},
   "outputs": [],
   "source": [
    "data = np.zeros(FRAME_SIZE)"
   ]
  },
  {
   "cell_type": "code",
   "execution_count": 11,
   "metadata": {},
   "outputs": [
    {
     "data": {
      "text/plain": [
       "(1, 56, 55)"
      ]
     },
     "execution_count": 11,
     "metadata": {},
     "output_type": "execute_result"
    }
   ],
   "source": [
    "sway_offset = 1\n",
    "sway_start = sway_offset\n",
    "sway_end = (data.shape[1]-1) - BOX_WIDTH\n",
    "sway_range = sway_end - sway_offset\n",
    "sway_start, sway_end, sway_range"
   ]
  },
  {
   "cell_type": "code",
   "execution_count": 17,
   "metadata": {
    "scrolled": false
   },
   "outputs": [
    {
     "data": {
      "image/png": "[encoded data removed]",
      "text/plain": [
       "<matplotlib.figure.Figure at 0x110535048>"
      ]
     },
     "metadata": {},
     "output_type": "display_data"
    },
    {
     "data": {
      "image/png": "[encoded data removed]",
      "text/plain": [
       "<matplotlib.figure.Figure at 0x110718320>"
      ]
     },
     "metadata": {},
     "output_type": "display_data"
    },
    {
     "data": {
      "image/png": "[encoded data removed]",
      "text/plain": [
       "<matplotlib.figure.Figure at 0x1104e3128>"
      ]
     },
     "metadata": {},
     "output_type": "display_data"
    },
    {
     "data": {
      "image/png": "[encoded data removed]",
      "text/plain": [
       "<matplotlib.figure.Figure at 0x11071f908>"
      ]
     },
     "metadata": {},
     "output_type": "display_data"
    },
    {
     "data": {
      "image/png": "[encoded data removed]",
      "text/plain": [
       "<matplotlib.figure.Figure at 0x110180ef0>"
      ]
     },
     "metadata": {},
     "output_type": "display_data"
    },
    {
     "data": {
      "image/png": "[encoded data removed]",
      "text/plain": [
       "<matplotlib.figure.Figure at 0x1107bb358>"
      ]
     },
     "metadata": {},
     "output_type": "display_data"
    },
    {
     "data": {
      "image/png": "[encoded data removed]",
      "text/plain": [
       "<matplotlib.figure.Figure at 0x110532e48>"
      ]
     },
     "metadata": {},
     "output_type": "display_data"
    },
    {
     "data": {
      "image/png": "[encoded data removed]",
      "text/plain": [
       "<matplotlib.figure.Figure at 0x11067dba8>"
      ]
     },
     "metadata": {},
     "output_type": "display_data"
    },
    {
     "data": {
      "image/png": "[encoded data removed]",
      "text/plain": [
       "<matplotlib.figure.Figure at 0x1101dec18>"
      ]
     },
     "metadata": {},
     "output_type": "display_data"
    },
    {
     "data": {
      "image/png": "[encoded data removed]",
      "text/plain": [
       "<matplotlib.figure.Figure at 0x1104b0438>"
      ]
     },
     "metadata": {},
     "output_type": "display_data"
    }
   ],
   "source": [
    "frames = []\n",
    "print_every_n_frames = DATA_POINTS//10\n",
    "for i,t in enumerate(sined):\n",
    "    frame = get_array_with_box_at_pos((t*sway_range)+sway_offset)\n",
    "    if(i % print_every_n_frames)==0:\n",
    "        plt.imshow(frame, interpolation='nearest')\n",
    "        plt.show()\n",
    "    frames.append(frame)"
   ]
  }
 ],
 "metadata": {
  "kernelspec": {
   "display_name": "Python [conda root]",
   "language": "python",
   "name": "conda-root-py"
  },
  "language_info": {
   "codemirror_mode": {
    "name": "ipython",
    "version": 3
   },
   "file_extension": ".py",
   "mimetype": "text/x-python",
   "name": "python",
   "nbconvert_exporter": "python",
   "pygments_lexer": "ipython3",
   "version": "3.5.3"
  }
 },
 "nbformat": 4,
 "nbformat_minor": 2
}
