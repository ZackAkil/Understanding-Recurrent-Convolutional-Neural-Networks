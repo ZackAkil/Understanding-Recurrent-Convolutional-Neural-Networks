{
 "cells": [
  {
   "cell_type": "markdown",
   "metadata": {},
   "source": [
    "# Build RCNN and CNN with synthetic data"
   ]
  },
  {
   "cell_type": "code",
   "execution_count": 74,
   "metadata": {},
   "outputs": [],
   "source": [
    "\n",
    "%matplotlib inline\n",
    "import numpy as np\n",
    "import pandas as pd\n",
    "import matplotlib.pyplot as plt\n",
    "from sklearn.externals import joblib\n",
    "from sklearn.model_selection import train_test_split\n",
    "\n",
    "from keras.models import Sequential\n",
    "from keras.layers import Dense, Activation, Conv2D, MaxPooling2D, Dropout, Flatten\n",
    "from keras import optimizers\n",
    "\n",
    "import box_gen"
   ]
  },
  {
   "cell_type": "code",
   "execution_count": 21,
   "metadata": {},
   "outputs": [],
   "source": [
    "# import data\n",
    "data = joblib.load('sythetic_data.pkl')\n",
    "X = np.asarray(data['X'])\n",
    "y = np.asarray(data['y'])"
   ]
  },
  {
   "cell_type": "code",
   "execution_count": 33,
   "metadata": {},
   "outputs": [],
   "source": [
    "x_train, x_test, y_train, y_test = train_test_split(\n",
    "    X, y, test_size=0.30, random_state=42)"
   ]
  },
  {
   "cell_type": "code",
   "execution_count": 34,
   "metadata": {},
   "outputs": [
    {
     "data": {
      "image/png": "[encoded data removed]",
      "text/plain": [
       "<matplotlib.figure.Figure at 0x117ded588>"
      ]
     },
     "metadata": {},
     "output_type": "display_data"
    },
    {
     "data": {
      "image/png": "[encoded data removed]",
      "text/plain": [
       "<matplotlib.figure.Figure at 0x118190f98>"
      ]
     },
     "metadata": {},
     "output_type": "display_data"
    },
    {
     "name": "stdout",
     "output_type": "stream",
     "text": [
      "--\n"
     ]
    },
    {
     "data": {
      "image/png": "[encoded data removed]",
      "text/plain": [
       "<matplotlib.figure.Figure at 0x118139cc0>"
      ]
     },
     "metadata": {},
     "output_type": "display_data"
    },
    {
     "data": {
      "image/png": "[encoded data removed]",
      "text/plain": [
       "<matplotlib.figure.Figure at 0x1185559e8>"
      ]
     },
     "metadata": {},
     "output_type": "display_data"
    },
    {
     "name": "stdout",
     "output_type": "stream",
     "text": [
      "--\n"
     ]
    },
    {
     "data": {
      "image/png": "[encoded data removed]",
      "text/plain": [
       "<matplotlib.figure.Figure at 0x117f50b70>"
      ]
     },
     "metadata": {},
     "output_type": "display_data"
    },
    {
     "data": {
      "image/png": "[encoded data removed]",
      "text/plain": [
       "<matplotlib.figure.Figure at 0x1181ca630>"
      ]
     },
     "metadata": {},
     "output_type": "display_data"
    },
    {
     "name": "stdout",
     "output_type": "stream",
     "text": [
      "--\n"
     ]
    },
    {
     "data": {
      "image/png": "[encoded data removed]",
      "text/plain": [
       "<matplotlib.figure.Figure at 0x117dccdd8>"
      ]
     },
     "metadata": {},
     "output_type": "display_data"
    },
    {
     "data": {
      "image/png": "[encoded data removed]",
      "text/plain": [
       "<matplotlib.figure.Figure at 0x1182070b8>"
      ]
     },
     "metadata": {},
     "output_type": "display_data"
    },
    {
     "name": "stdout",
     "output_type": "stream",
     "text": [
      "--\n"
     ]
    },
    {
     "data": {
      "image/png": "[encoded data removed]",
      "text/plain": [
       "<matplotlib.figure.Figure at 0x117dcc588>"
      ]
     },
     "metadata": {},
     "output_type": "display_data"
    },
    {
     "data": {
      "image/png": "[encoded data removed]",
      "text/plain": [
       "<matplotlib.figure.Figure at 0x117d031d0>"
      ]
     },
     "metadata": {},
     "output_type": "display_data"
    },
    {
     "name": "stdout",
     "output_type": "stream",
     "text": [
      "--\n"
     ]
    }
   ],
   "source": [
    "for frame, next_pos in zip(x_train[:5], y_train[:5]):\n",
    "    plt.imshow(frame*2 + box_gen.get_array_with_box_at_pos(next_pos))\n",
    "    plt.show()\n",
    "    plt.imshow(box_gen.get_array_with_box_at_pos(next_pos))\n",
    "    plt.show()\n",
    "    print('--')"
   ]
  },
  {
   "cell_type": "code",
   "execution_count": 42,
   "metadata": {},
   "outputs": [],
   "source": [
    "model = Sequential()\n",
    "\n",
    "model.add(Conv2D(2, kernel_size=(3, 3),\n",
    "                 activation='relu',\n",
    "                 input_shape=(5, 50, 1), name='input'))\n",
    "model.add(Flatten())\n",
    "model.add(Dense(16, activation='relu'))\n",
    "model.add(Dense(1, name='output'))"
   ]
  },
  {
   "cell_type": "code",
   "execution_count": 43,
   "metadata": {},
   "outputs": [],
   "source": [
    "model.compile(loss='mean_squared_error', optimizer='rmsprop')"
   ]
  },
  {
   "cell_type": "code",
   "execution_count": 44,
   "metadata": {},
   "outputs": [],
   "source": [
    "def add_1(arr):\n",
    "    return arr.reshape([*arr.shape,1])"
   ]
  },
  {
   "cell_type": "code",
   "execution_count": 47,
   "metadata": {},
   "outputs": [
    {
     "name": "stdout",
     "output_type": "stream",
     "text": [
      "Train on 69 samples, validate on 30 samples\n",
      "Epoch 1/30\n",
      "69/69 [==============================] - 0s 260us/step - loss: 126.8188 - val_loss: 114.6788\n",
      "Epoch 2/30\n",
      "69/69 [==============================] - 0s 232us/step - loss: 120.4748 - val_loss: 107.5585\n",
      "Epoch 3/30\n",
      "69/69 [==============================] - 0s 220us/step - loss: 114.3036 - val_loss: 101.3675\n",
      "Epoch 4/30\n",
      "69/69 [==============================] - 0s 254us/step - loss: 108.1405 - val_loss: 96.3076\n",
      "Epoch 5/30\n",
      "69/69 [==============================] - 0s 225us/step - loss: 101.1753 - val_loss: 90.1265\n",
      "Epoch 6/30\n",
      "69/69 [==============================] - 0s 215us/step - loss: 94.4927 - val_loss: 83.9247\n",
      "Epoch 7/30\n",
      "69/69 [==============================] - 0s 217us/step - loss: 87.6904 - val_loss: 77.5989\n",
      "Epoch 8/30\n",
      "69/69 [==============================] - 0s 217us/step - loss: 80.7285 - val_loss: 71.5188\n",
      "Epoch 9/30\n",
      "69/69 [==============================] - 0s 200us/step - loss: 74.3735 - val_loss: 64.6146\n",
      "Epoch 10/30\n",
      "69/69 [==============================] - 0s 224us/step - loss: 68.1013 - val_loss: 59.8037\n",
      "Epoch 11/30\n",
      "69/69 [==============================] - 0s 218us/step - loss: 62.3320 - val_loss: 54.6760\n",
      "Epoch 12/30\n",
      "69/69 [==============================] - 0s 219us/step - loss: 56.7189 - val_loss: 49.9094\n",
      "Epoch 13/30\n",
      "69/69 [==============================] - 0s 213us/step - loss: 51.1165 - val_loss: 44.4667\n",
      "Epoch 14/30\n",
      "69/69 [==============================] - 0s 221us/step - loss: 45.7088 - val_loss: 40.3408\n",
      "Epoch 15/30\n",
      "69/69 [==============================] - 0s 225us/step - loss: 40.9605 - val_loss: 36.2147\n",
      "Epoch 16/30\n",
      "69/69 [==============================] - 0s 219us/step - loss: 36.4529 - val_loss: 32.6979\n",
      "Epoch 17/30\n",
      "69/69 [==============================] - 0s 229us/step - loss: 32.1642 - val_loss: 29.1712\n",
      "Epoch 18/30\n",
      "69/69 [==============================] - 0s 248us/step - loss: 28.1922 - val_loss: 26.0509\n",
      "Epoch 19/30\n",
      "69/69 [==============================] - 0s 223us/step - loss: 24.6813 - val_loss: 23.5953\n",
      "Epoch 20/30\n",
      "69/69 [==============================] - 0s 228us/step - loss: 21.6119 - val_loss: 21.3161\n",
      "Epoch 21/30\n",
      "69/69 [==============================] - 0s 235us/step - loss: 18.8391 - val_loss: 19.2750\n",
      "Epoch 22/30\n",
      "69/69 [==============================] - 0s 238us/step - loss: 16.3233 - val_loss: 17.7015\n",
      "Epoch 23/30\n",
      "69/69 [==============================] - 0s 239us/step - loss: 14.6850 - val_loss: 16.8175\n",
      "Epoch 24/30\n",
      "69/69 [==============================] - 0s 236us/step - loss: 13.1910 - val_loss: 16.1695\n",
      "Epoch 25/30\n",
      "69/69 [==============================] - 0s 229us/step - loss: 11.7974 - val_loss: 15.8980\n",
      "Epoch 26/30\n",
      "69/69 [==============================] - 0s 241us/step - loss: 10.8421 - val_loss: 15.6129\n",
      "Epoch 27/30\n",
      "69/69 [==============================] - 0s 244us/step - loss: 9.9899 - val_loss: 15.5555\n",
      "Epoch 28/30\n",
      "69/69 [==============================] - 0s 230us/step - loss: 9.6983 - val_loss: 15.6608\n",
      "Epoch 29/30\n",
      "69/69 [==============================] - 0s 220us/step - loss: 9.3198 - val_loss: 15.7376\n",
      "Epoch 30/30\n",
      "69/69 [==============================] - 0s 214us/step - loss: 9.1248 - val_loss: 15.9032\n"
     ]
    },
    {
     "data": {
      "text/plain": [
       "<keras.callbacks.History at 0x1182b5780>"
      ]
     },
     "execution_count": 47,
     "metadata": {},
     "output_type": "execute_result"
    }
   ],
   "source": [
    "model.fit(add_1(x_train), add_1(y_train),\n",
    "          batch_size=10,\n",
    "          epochs=30,\n",
    "          verbose=1,\n",
    "          validation_data=(add_1(x_test), add_1(y_test)))"
   ]
  },
  {
   "cell_type": "code",
   "execution_count": 96,
   "metadata": {},
   "outputs": [
    {
     "data": {
      "image/png": "[encoded data removed]",
      "text/plain": [
       "<matplotlib.figure.Figure at 0x11e15d240>"
      ]
     },
     "metadata": {},
     "output_type": "display_data"
    }
   ],
   "source": [
    "residual = model.predict(add_1(x_train)) - add_1(y_train)\n",
    "residuals = residual.astype(int).reshape([69])\n",
    "pd.Series(residuals).hist()\n",
    "plt.show()"
   ]
  },
  {
   "cell_type": "markdown",
   "metadata": {},
   "source": [
    "The plot above show how there are errors happening on both sides (predincting left when it should be right and vis-versa)."
   ]
  },
  {
   "cell_type": "code",
   "execution_count": 67,
   "metadata": {
    "scrolled": false
   },
   "outputs": [
    {
     "name": "stdout",
     "output_type": "stream",
     "text": [
      "input\n"
     ]
    },
    {
     "data": {
      "image/png": "[encoded data removed]",
      "text/plain": [
       "<matplotlib.figure.Figure at 0x11afa54e0>"
      ]
     },
     "metadata": {},
     "output_type": "display_data"
    },
    {
     "name": "stdout",
     "output_type": "stream",
     "text": [
      "predict next frame\n"
     ]
    },
    {
     "data": {
      "image/png": "[encoded data removed]",
      "text/plain": [
       "<matplotlib.figure.Figure at 0x11d05a588>"
      ]
     },
     "metadata": {},
     "output_type": "display_data"
    },
    {
     "name": "stdout",
     "output_type": "stream",
     "text": [
      "real next frame\n"
     ]
    },
    {
     "data": {
      "image/png": "[encoded data removed]",
      "text/plain": [
       "<matplotlib.figure.Figure at 0x11b169ef0>"
      ]
     },
     "metadata": {},
     "output_type": "display_data"
    },
    {
     "name": "stdout",
     "output_type": "stream",
     "text": [
      "3.07006 --------\n",
      "\n",
      "input\n"
     ]
    },
    {
     "data": {
      "image/png": "[encoded data removed]",
      "text/plain": [
       "<matplotlib.figure.Figure at 0x11d139390>"
      ]
     },
     "metadata": {},
     "output_type": "display_data"
    },
    {
     "name": "stdout",
     "output_type": "stream",
     "text": [
      "predict next frame\n"
     ]
    },
    {
     "data": {
      "image/png": "[encoded data removed]",
      "text/plain": [
       "<matplotlib.figure.Figure at 0x11d44a9e8>"
      ]
     },
     "metadata": {},
     "output_type": "display_data"
    },
    {
     "name": "stdout",
     "output_type": "stream",
     "text": [
      "real next frame\n"
     ]
    },
    {
     "data": {
      "image/png": "[encoded data removed]",
      "text/plain": [
       "<matplotlib.figure.Figure at 0x11d30eef0>"
      ]
     },
     "metadata": {},
     "output_type": "display_data"
    },
    {
     "name": "stdout",
     "output_type": "stream",
     "text": [
      "10.2078 --------\n",
      "\n",
      "input\n"
     ]
    },
    {
     "data": {
      "image/png": "[encoded data removed]",
      "text/plain": [
       "<matplotlib.figure.Figure at 0x11d3a9400>"
      ]
     },
     "metadata": {},
     "output_type": "display_data"
    },
    {
     "name": "stdout",
     "output_type": "stream",
     "text": [
      "predict next frame\n"
     ]
    },
    {
     "data": {
      "image/png": "[encoded data removed]",
      "text/plain": [
       "<matplotlib.figure.Figure at 0x11d2567f0>"
      ]
     },
     "metadata": {},
     "output_type": "display_data"
    },
    {
     "name": "stdout",
     "output_type": "stream",
     "text": [
      "real next frame\n"
     ]
    },
    {
     "data": {
      "image/png": "[encoded data removed]",
      "text/plain": [
       "<matplotlib.figure.Figure at 0x11d3eae10>"
      ]
     },
     "metadata": {},
     "output_type": "display_data"
    },
    {
     "name": "stdout",
     "output_type": "stream",
     "text": [
      "6.36793 --------\n",
      "\n",
      "input\n"
     ]
    },
    {
     "data": {
      "image/png": "[encoded data removed]",
      "text/plain": [
       "<matplotlib.figure.Figure at 0x11d2ffbe0>"
      ]
     },
     "metadata": {},
     "output_type": "display_data"
    },
    {
     "name": "stdout",
     "output_type": "stream",
     "text": [
      "predict next frame\n"
     ]
    },
    {
     "data": {
      "image/png": "[encoded data removed]",
      "text/plain": [
       "<matplotlib.figure.Figure at 0x11d0a1978>"
      ]
     },
     "metadata": {},
     "output_type": "display_data"
    },
    {
     "name": "stdout",
     "output_type": "stream",
     "text": [
      "real next frame\n"
     ]
    },
    {
     "data": {
      "image/png": "[encoded data removed]",
      "text/plain": [
       "<matplotlib.figure.Figure at 0x11b136ef0>"
      ]
     },
     "metadata": {},
     "output_type": "display_data"
    },
    {
     "name": "stdout",
     "output_type": "stream",
     "text": [
      "3.07006 --------\n",
      "\n",
      "input\n"
     ]
    },
    {
     "data": {
      "image/png": "[encoded data removed]",
      "text/plain": [
       "<matplotlib.figure.Figure at 0x11d4e6c18>"
      ]
     },
     "metadata": {},
     "output_type": "display_data"
    },
    {
     "name": "stdout",
     "output_type": "stream",
     "text": [
      "predict next frame\n"
     ]
    },
    {
     "data": {
      "image/png": "[encoded data removed]",
      "text/plain": [
       "<matplotlib.figure.Figure at 0x11d4df518>"
      ]
     },
     "metadata": {},
     "output_type": "display_data"
    },
    {
     "name": "stdout",
     "output_type": "stream",
     "text": [
      "real next frame\n"
     ]
    },
    {
     "data": {
      "image/png": "[encoded data removed]",
      "text/plain": [
       "<matplotlib.figure.Figure at 0x11d139438>"
      ]
     },
     "metadata": {},
     "output_type": "display_data"
    },
    {
     "name": "stdout",
     "output_type": "stream",
     "text": [
      "42.098 --------\n",
      "\n"
     ]
    }
   ],
   "source": [
    "for frame, output in zip(x_train[:5], y_train[:5]):\n",
    "    single_frame = add_1(frame.reshape([1,*frame.shape]))\n",
    "    pred = model.predict(single_frame)[0][0]\n",
    "    \n",
    "    print('input')\n",
    "    plt.imshow(frame)\n",
    "    plt.show()\n",
    "    \n",
    "    print('predict next frame')\n",
    "    plt.imshow(box_gen.get_array_with_box_at_pos(pred))\n",
    "    plt.show()\n",
    "    \n",
    "    print('real next frame')\n",
    "    plt.imshow(box_gen.get_array_with_box_at_pos(output))\n",
    "    plt.show()\n",
    "    print(pred, '--------\\n')"
   ]
  },
  {
   "cell_type": "code",
   "execution_count": null,
   "metadata": {},
   "outputs": [],
   "source": []
  }
 ],
 "metadata": {
  "kernelspec": {
   "display_name": "Python 3",
   "language": "python",
   "name": "python3"
  },
  "language_info": {
   "codemirror_mode": {
    "name": "ipython",
    "version": 3
   },
   "file_extension": ".py",
   "mimetype": "text/x-python",
   "name": "python",
   "nbconvert_exporter": "python",
   "pygments_lexer": "ipython3",
   "version": "3.5.2"
  }
 },
 "nbformat": 4,
 "nbformat_minor": 1
}
